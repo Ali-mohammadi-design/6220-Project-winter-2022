{
  "nbformat": 4,
  "nbformat_minor": 0,
  "metadata": {
    "colab": {
      "provenance": [],
      "authorship_tag": "ABX9TyNa0fTQ5UxgWotNK4EHGFQU",
      "include_colab_link": true
    },
    "kernelspec": {
      "name": "python3",
      "display_name": "Python 3"
    },
    "language_info": {
      "name": "python"
    }
  },
  "cells": [
    {
      "cell_type": "markdown",
      "metadata": {
        "id": "view-in-github",
        "colab_type": "text"
      },
      "source": [
        "<a href=\"https://colab.research.google.com/github/Ali-mohammadi-design/6220-Project-winter-2022/blob/main/Data_squ_Colors.ipynb\" target=\"_parent\"><img src=\"https://colab.research.google.com/assets/colab-badge.svg\" alt=\"Open In Colab\"/></a>"
      ]
    },
    {
      "cell_type": "code",
      "execution_count": 44,
      "metadata": {
        "colab": {
          "base_uri": "https://localhost:8080/"
        },
        "id": "giMPmmcDcyg6",
        "outputId": "250d11ad-18cd-4561-bc78-444620fd4c95"
      },
      "outputs": [
        {
          "output_type": "stream",
          "name": "stdout",
          "text": [
            "              X          Y Unique Squirrel ID Hectare Shift      Date  \\\n",
            "0    -73.956134  40.794082     37F-PM-1014-03     37F    PM  10142018   \n",
            "1    -73.968857  40.783783     21B-AM-1019-04     21B    AM  10192018   \n",
            "2    -73.974281  40.775534     11B-PM-1014-08     11B    PM  10142018   \n",
            "3    -73.959641  40.790313     32E-PM-1017-14     32E    PM  10172018   \n",
            "4    -73.970268  40.776213     13E-AM-1017-05     13E    AM  10172018   \n",
            "...         ...        ...                ...     ...   ...       ...   \n",
            "3018 -73.963943  40.790868     30B-AM-1007-04     30B    AM  10072018   \n",
            "3019 -73.970402  40.782560     19A-PM-1013-05     19A    PM  10132018   \n",
            "3020 -73.966587  40.783678     22D-PM-1012-07     22D    PM  10122018   \n",
            "3021 -73.963994  40.789915     29B-PM-1010-02     29B    PM  10102018   \n",
            "3022 -73.975479  40.769640      5E-PM-1012-01     05E    PM  10122018   \n",
            "\n",
            "      Hectare Squirrel Number    Age Primary Fur Color  \\\n",
            "0                           3    NaN               NaN   \n",
            "1                           4    NaN               NaN   \n",
            "2                           8    NaN              Gray   \n",
            "3                          14  Adult              Gray   \n",
            "4                           5  Adult              Gray   \n",
            "...                       ...    ...               ...   \n",
            "3018                        4  Adult              Gray   \n",
            "3019                        5  Adult              Gray   \n",
            "3020                        7  Adult              Gray   \n",
            "3021                        2    NaN              Gray   \n",
            "3022                        1  Adult          Cinnamon   \n",
            "\n",
            "         Highlight Fur Color  ...   Kuks  Quaas  Moans Tail flags  \\\n",
            "0                        NaN  ...  False  False  False      False   \n",
            "1                        NaN  ...  False  False  False      False   \n",
            "2                        NaN  ...  False  False  False      False   \n",
            "3                        NaN  ...  False  False  False      False   \n",
            "4                   Cinnamon  ...  False  False  False      False   \n",
            "...                      ...  ...    ...    ...    ...        ...   \n",
            "3018                     NaN  ...  False  False  False      False   \n",
            "3019                   White  ...  False  False  False      False   \n",
            "3020  Black, Cinnamon, White  ...  False  False  False      False   \n",
            "3021         Cinnamon, White  ...  False  False  False      False   \n",
            "3022             Gray, White  ...  False  False  False      False   \n",
            "\n",
            "     Tail twitches  Approaches  Indifferent  Runs from  Other Interactions  \\\n",
            "0            False       False        False      False                 NaN   \n",
            "1            False       False        False      False                 NaN   \n",
            "2            False       False        False      False                 NaN   \n",
            "3            False       False        False       True                 NaN   \n",
            "4            False       False        False      False                 NaN   \n",
            "...            ...         ...          ...        ...                 ...   \n",
            "3018         False       False        False       True                 NaN   \n",
            "3019         False       False         True      False                 NaN   \n",
            "3020         False       False         True      False                 NaN   \n",
            "3021         False       False         True      False                 NaN   \n",
            "3022         False        True        False      False                 NaN   \n",
            "\n",
            "                                        Lat/Long  \n",
            "0     POINT (-73.9561344937861 40.7940823884086)  \n",
            "1     POINT (-73.9688574691102 40.7837825208444)  \n",
            "2     POINT (-73.97428114848522 40.775533619083)  \n",
            "3     POINT (-73.9596413903948 40.7903128889029)  \n",
            "4     POINT (-73.9702676472613 40.7762126854894)  \n",
            "...                                          ...  \n",
            "3018  POINT (-73.9639431360458 40.7908677445466)  \n",
            "3019  POINT (-73.9704015859639 40.7825600069973)  \n",
            "3020  POINT (-73.9665871993517 40.7836775064883)  \n",
            "3021  POINT (-73.9639941227864 40.7899152327912)  \n",
            "3022  POINT (-73.9754794191553 40.7696404489025)  \n",
            "\n",
            "[3023 rows x 31 columns]\n"
          ]
        }
      ],
      "source": [
        "import pandas\n",
        "file=pandas.read_csv(\"/2018.csv\")\n",
        "print(file)\n"
      ]
    },
    {
      "cell_type": "code",
      "source": [
        "file2=file[\"Primary Fur Color\"]\n",
        "file3=file2.to_list()\n",
        "G=0\n",
        "B=0\n",
        "C=0\n",
        "for i in range(len(file3)):\n",
        "  if file3[i]==\"Gray\":\n",
        "   G=G+1\n",
        "  elif file3[i]==\"Back\":\n",
        "    B=B+1\n",
        "  elif file3[i]==\"Cinnamon\":\n",
        "    C=C+1\n",
        "\n",
        "\n",
        "print(f\"Gray={G}\")\n",
        "print(f\"Black={B}\")\n",
        "print(f\"Cinnamon={C}\")\n",
        "\n",
        "dict= {\"color\":[\"B\",\"G\",\"c\"], \"Num\":[B,G,C]}\n",
        "\n"
      ],
      "metadata": {
        "colab": {
          "base_uri": "https://localhost:8080/"
        },
        "id": "q8TKtTvCe9dX",
        "outputId": "4d3b0c25-6c32-49c0-9ec1-aab4ac75592c"
      },
      "execution_count": 49,
      "outputs": [
        {
          "output_type": "stream",
          "name": "stdout",
          "text": [
            "Gray=2473\n",
            "Black=0\n",
            "Cinnamon=392\n"
          ]
        }
      ]
    },
    {
      "cell_type": "code",
      "source": [
        "data=pandas.DataFrame(dict)\n",
        "data.to_csv(\"colors.csv\")"
      ],
      "metadata": {
        "id": "HSNNKtcWkhP_"
      },
      "execution_count": 52,
      "outputs": []
    }
  ]
}