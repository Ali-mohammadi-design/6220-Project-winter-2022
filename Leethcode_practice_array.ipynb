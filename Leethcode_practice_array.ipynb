{
  "nbformat": 4,
  "nbformat_minor": 0,
  "metadata": {
    "colab": {
      "provenance": [],
      "authorship_tag": "ABX9TyPK2sPSY6wPID5pTM0yBdB7",
      "include_colab_link": true
    },
    "kernelspec": {
      "name": "python3",
      "display_name": "Python 3"
    },
    "language_info": {
      "name": "python"
    }
  },
  "cells": [
    {
      "cell_type": "markdown",
      "metadata": {
        "id": "view-in-github",
        "colab_type": "text"
      },
      "source": [
        "<a href=\"https://colab.research.google.com/github/Ali-mohammadi-design/6220-Project-winter-2022/blob/main/Leethcode_practice_array.ipynb\" target=\"_parent\"><img src=\"https://colab.research.google.com/assets/colab-badge.svg\" alt=\"Open In Colab\"/></a>"
      ]
    },
    {
      "cell_type": "markdown",
      "source": [
        "**First_prectice**"
      ],
      "metadata": {
        "id": "NUEoY7TMjohr"
      }
    },
    {
      "cell_type": "markdown",
      "source": [
        "You are given two integer arrays nums1 and nums2, sorted in non-decreasing order, and two integers m and n, representing the number of elements in nums1 and nums2 respectively.\n",
        "\n",
        "\n",
        "Merge nums1 and nums2 into a single array sorted in non-decreasing order.\n",
        "\n",
        "\n",
        "The final sorted array should not be returned by the function, but instead be stored inside the array nums1. To accommodate this, nums1 has a length of m + n, where the first m elements denote the elements that should be merged, and the last n elements are set to 0 and should be ignored. nums2 has a length of n.\n",
        "\n",
        "\n",
        "\n",
        "Example 1:\n",
        "\n",
        "Input: nums1 = [1,2,3,0,0,0], m = 3, nums2 = [2,5,6], n = 3\n",
        "\n",
        "Output: [1,2,2,3,5,6]\n",
        "\n",
        "Explanation: The arrays we are merging are [1,2,3] and [2,5,6].\n",
        "\n",
        "The result of the merge is [1,2,2,3,5,6] with the underlined elements coming from nums1.\n",
        "\n",
        "Example 2:\n",
        "\n",
        "Input: nums1 = [1], m = 1, nums2 = [], n = 0\n",
        "\n",
        "Output: [1]\n",
        "\n",
        "Explanation: The arrays we are merging are [1] and [].\n",
        "\n",
        "The result of the merge is [1].\n",
        "\n",
        "Example 3:\n",
        "\n",
        "Input: nums1 = [0], m = 0, nums2 = [1], n = 1\n",
        "\n",
        "Output: [1]\n",
        "\n",
        "Explanation: The arrays we are merging are [] and [1].\n",
        "\n",
        "The result of the merge is [1].\n",
        "\n",
        "Note that because m = 0, there are no elements in nums1. The 0 is only there to ensure the merge result can fit in nums1."
      ],
      "metadata": {
        "id": "B0vACpspf4hX"
      }
    },
    {
      "cell_type": "code",
      "execution_count": 2,
      "metadata": {
        "id": "dDxq1PvbcJuK"
      },
      "outputs": [],
      "source": [
        "def num(num1,num2):\n",
        "  num3=num1[0:len(num1)-len(num2)]+num2\n",
        "  num3.sort()\n",
        "  return num3"
      ]
    },
    {
      "cell_type": "code",
      "source": [
        "num1 = [1,2,3,0,0,0]\n",
        "num2 = [2,5,6]"
      ],
      "metadata": {
        "id": "LRJX-F2DfcpC"
      },
      "execution_count": 3,
      "outputs": []
    },
    {
      "cell_type": "code",
      "source": [
        "num(num1,num2)"
      ],
      "metadata": {
        "colab": {
          "base_uri": "https://localhost:8080/"
        },
        "id": "gJJsgevtfODf",
        "outputId": "0cd98846-038e-45a6-8250-84117884f676"
      },
      "execution_count": 4,
      "outputs": [
        {
          "output_type": "execute_result",
          "data": {
            "text/plain": [
              "[1, 2, 2, 3, 5, 6]"
            ]
          },
          "metadata": {},
          "execution_count": 4
        }
      ]
    },
    {
      "cell_type": "code",
      "source": [
        "nums1 = [1]\n",
        "nums2 = []"
      ],
      "metadata": {
        "id": "8bPA7s23fQGB"
      },
      "execution_count": 5,
      "outputs": []
    },
    {
      "cell_type": "code",
      "source": [
        "num(nums1,nums2)"
      ],
      "metadata": {
        "colab": {
          "base_uri": "https://localhost:8080/"
        },
        "id": "biHwu22afrBv",
        "outputId": "ed287bbd-11c9-45e0-f8ab-c702252a657c"
      },
      "execution_count": 6,
      "outputs": [
        {
          "output_type": "execute_result",
          "data": {
            "text/plain": [
              "[1]"
            ]
          },
          "metadata": {},
          "execution_count": 6
        }
      ]
    },
    {
      "cell_type": "markdown",
      "source": [
        "**Second_practice**"
      ],
      "metadata": {
        "id": "KgCo3GOLjkPF"
      }
    },
    {
      "cell_type": "markdown",
      "source": [
        "Given an integer array nums and an integer val, remove all occurrences of val in nums in-place. The order of the elements may be changed. Then return the number of elements in nums which are not equal to val.\n",
        "\n",
        "\n",
        "Consider the number of elements in nums which are not equal to val be k, to get accepted, you need to do the following things:\n",
        "\n",
        "\n",
        "Change the array nums such that the first k elements of nums contain the elements which are not equal to val. The remaining elements of nums are not important as well as the size of nums.\n",
        "Return k.\n",
        "\n",
        "Custom Judge:\n",
        "\n",
        "The judge will test your solution with the following code:\n",
        "\n",
        "int[] nums = [...]; // Input array\n",
        "\n",
        "int val = ...; // Value to remove\n",
        "\n",
        "int[] expectedNums = [...];\n",
        "// The expected answer with correct length.\n",
        "\n",
        "                            // It is sorted with no values equaling val.\n",
        "\n",
        "int k = removeElement(nums, val); // Calls your implementation\n",
        "\n",
        "assert k == expectedNums.length;\n",
        "\n",
        "sort(nums, 0, k); // Sort the first k elements of nums\n",
        "for (int i = 0; i < actualLength; i++) {\n",
        "    assert nums[i] == expectedNums[i];\n",
        "}\n",
        "\n",
        "If all assertions pass, then your solution will be accepted.\n",
        "\n",
        "\n",
        "\n",
        "Example 1:\n",
        "\n",
        "Input: nums = [3,2,2,3], val = 3\n",
        "\n",
        "Output: 2, nums = [2,2,_,_]\n",
        "\n",
        "\n",
        "Explanation: Your function should return k = 2, with the first two elements of nums being 2.\n",
        "\n",
        "It does not matter what you leave beyond the returned k (hence they are underscores).\n",
        "\n",
        "Example 2:\n",
        "\n",
        "Input: nums = [0,1,2,2,3,0,4,2], val = 2\n",
        "\n",
        "Output: 5, nums = [0,1,4,0,3,_,_,_]\n",
        "\n",
        "Explanation: Your function should return k = 5, with the first five elements of nums containing 0, 0, 1, 3, and 4.\n",
        "\n",
        "Note that the five elements can be returned in any order.\n",
        "\n",
        "It does not matter what you leave beyond the returned k (hence they are underscores).\n",
        "\n",
        "\n",
        "Constraints:\n",
        "\n",
        "0 <= nums.length <= 100\n",
        "0 <= nums[i] <= 50\n",
        "0 <= val <= 100"
      ],
      "metadata": {
        "id": "aBhsvUpwjPug"
      }
    },
    {
      "cell_type": "code",
      "source": [
        "def d_num(val,nums):\n",
        " nums2=[]\n",
        " for i in range(0,len(nums)):\n",
        "    if not nums[i]==val:\n",
        "      nums2.append(nums[i])\n",
        " k=len(nums)-len(nums2)\n",
        " print(nums2)\n",
        " print(f\"k={k}\")"
      ],
      "metadata": {
        "id": "Jsnb90eiiHo3"
      },
      "execution_count": 7,
      "outputs": []
    },
    {
      "cell_type": "code",
      "source": [
        "nums = [3,2,2,3,3,3,3,6,7,8,94,2,34]\n",
        "val = 3"
      ],
      "metadata": {
        "id": "jda5Kv-VhRbL"
      },
      "execution_count": 8,
      "outputs": []
    },
    {
      "cell_type": "code",
      "source": [
        "d_num(val,nums)"
      ],
      "metadata": {
        "colab": {
          "base_uri": "https://localhost:8080/"
        },
        "id": "lH3qAIqPiibJ",
        "outputId": "744e5928-4e62-4d3e-a2cc-7aa3686811b0"
      },
      "execution_count": 9,
      "outputs": [
        {
          "output_type": "stream",
          "name": "stdout",
          "text": [
            "[2, 2, 6, 7, 8, 94, 2, 34]\n",
            "k=5\n"
          ]
        }
      ]
    },
    {
      "cell_type": "markdown",
      "source": [
        "##Third Question"
      ],
      "metadata": {
        "id": "8PLEI_QoNWsM"
      }
    },
    {
      "cell_type": "markdown",
      "source": [
        "Given an integer array nums sorted in non-decreasing order, remove the duplicates in-place such that each unique element appears only once. The relative order of the elements should be kept the same. Then return the number of unique elements in nums.\n",
        "\n",
        "\n",
        "Consider the number of unique elements of nums to be k, to get accepted, you need to do the following things:\n",
        "\n",
        "\n",
        "Change the array nums such that the first k elements of nums contain the unique elements in the order they were present in nums initially. The remaining elements of nums are not important as well as the size of nums.\n",
        "Return k.\n",
        "\n",
        "\n",
        "Custom Judge:\n",
        "\n",
        "The judge will test your solution with the following code:\n",
        "\n",
        "\n",
        "\n",
        "\n",
        "Example 1:\n",
        "\n",
        "Input: nums = [1,1,2]\n",
        "Output: 2, nums = [1,2,_]\n",
        "Explanation: Your function should return k = 2, with the first two elements of nums being 1 and 2 respectively.\n",
        "It does not matter what you leave beyond the returned k (hence they are underscores).\n",
        "\n",
        "\n",
        "Example 2:\n",
        "\n",
        "Input: nums = [0,0,1,1,1,2,2,3,3,4]\n",
        "Output: 5, nums = [0,1,2,3,4,_,_,_,_,_]\n",
        "Explanation: Your function should return k = 5, with the first five elements of nums being 0, 1, 2, 3, and 4 respectively.\n",
        "It does not matter what you leave beyond the returned k (hence they are underscores).\n",
        ""
      ],
      "metadata": {
        "id": "2FKcct4cN-yc"
      }
    },
    {
      "cell_type": "code",
      "source": [
        "d=[1,2,3,4,1,2,6,7,1,2,3]\n",
        "counter=0\n",
        "new_list=[]\n",
        "for i in range(len(d)):\n",
        "  new_list.append(d[i])\n",
        "  print(f\"for {i} the list is:{new_list}\")\n",
        "  for k in range(len(new_list)):\n",
        "    counter=0\n",
        "    for l in range(len(new_list)):\n",
        "      if new_list[k]==new_list[l]:\n",
        "        counter=counter+1\n",
        "  if counter>1:\n",
        "    #new_list.remove(d[i])\n",
        "    del new_list[len(new_list)-1]\n",
        "\n",
        "\n",
        "\n",
        "\n",
        "print(new_list)\n",
        ""
      ],
      "metadata": {
        "id": "_P3TZm4pi67q",
        "outputId": "e97c1502-1d24-48d3-f74d-4394c1ee25c4",
        "colab": {
          "base_uri": "https://localhost:8080/"
        }
      },
      "execution_count": 66,
      "outputs": [
        {
          "output_type": "stream",
          "name": "stdout",
          "text": [
            "for 0 the list is:[1]\n",
            "for 1 the list is:[1, 2]\n",
            "for 2 the list is:[1, 2, 3]\n",
            "for 3 the list is:[1, 2, 3, 4]\n",
            "for 4 the list is:[1, 2, 3, 4, 1]\n",
            "for 5 the list is:[1, 2, 3, 4, 2]\n",
            "for 6 the list is:[1, 2, 3, 4, 6]\n",
            "for 7 the list is:[1, 2, 3, 4, 6, 7]\n",
            "for 8 the list is:[1, 2, 3, 4, 6, 7, 1]\n",
            "for 9 the list is:[1, 2, 3, 4, 6, 7, 2]\n",
            "for 10 the list is:[1, 2, 3, 4, 6, 7, 3]\n",
            "[1, 2, 3, 4, 6, 7]\n"
          ]
        }
      ]
    },
    {
      "cell_type": "code",
      "source": [
        "d1=[1,2,3,4,1,2]\n",
        "d1=set(d1)\n",
        "d1\n"
      ],
      "metadata": {
        "id": "e6w7LMGDOW9I",
        "outputId": "e391a207-3e73-4bcf-876c-14119e25e504",
        "colab": {
          "base_uri": "https://localhost:8080/"
        }
      },
      "execution_count": 37,
      "outputs": [
        {
          "output_type": "execute_result",
          "data": {
            "text/plain": [
              "{1, 2, 3, 4}"
            ]
          },
          "metadata": {},
          "execution_count": 37
        }
      ]
    },
    {
      "cell_type": "code",
      "source": [],
      "metadata": {
        "id": "OGLNolRASuCD"
      },
      "execution_count": null,
      "outputs": []
    }
  ]
}